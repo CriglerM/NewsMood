{
 "cells": [
  {
   "cell_type": "code",
   "execution_count": 12,
   "metadata": {
    "collapsed": true
   },
   "outputs": [],
   "source": [
    "# Dependencies\n",
    "import numpy as np\n",
    "import pandas as pd\n",
    "import matplotlib.pyplot as plt\n",
    "import json\n",
    "import tweepy\n",
    "from datetime import datetime"
   ]
  },
  {
   "cell_type": "code",
   "execution_count": 13,
   "metadata": {
    "collapsed": true
   },
   "outputs": [],
   "source": [
    "# Twitter API Keys\n",
    "import os\n",
    "consumer_key = os.getenv(\"twitter_consumer_key\")\n",
    "consumer_secret = os.getenv(\"twitter_consumer_secret\")\n",
    "access_token = os.getenv(\"twitter_access_token_key\")\n",
    "access_token_secret = os.getenv(\"twitter_access_token_secret\")"
   ]
  },
  {
   "cell_type": "code",
   "execution_count": 14,
   "metadata": {
    "collapsed": true
   },
   "outputs": [],
   "source": [
    "# Setup Tweepy API Authentication\n",
    "auth = tweepy.OAuthHandler(consumer_key, consumer_secret)\n",
    "auth.set_access_token(access_token, access_token_secret)\n",
    "api = tweepy.API(auth, parser=tweepy.parsers.JSONParser())"
   ]
  },
  {
   "cell_type": "code",
   "execution_count": 15,
   "metadata": {
    "collapsed": true
   },
   "outputs": [],
   "source": [
    "# Import and Initialize Sentiment Analyzer\n",
    "from vaderSentiment.vaderSentiment import SentimentIntensityAnalyzer\n",
    "analyzer = SentimentIntensityAnalyzer()"
   ]
  },
  {
   "cell_type": "code",
   "execution_count": 16,
   "metadata": {
    "collapsed": true
   },
   "outputs": [],
   "source": [
    "# Create array with news outlet twitter handles\n",
    "    #newsOutlets = [\"BBCWorld\", \"nytimes\"]\n",
    "newsOutlets = [\"BBCWorld\", \"CBSNews\",\"CNN\", \"FoxNews\", \"nytimes\"]"
   ]
  },
  {
   "cell_type": "code",
   "execution_count": 17,
   "metadata": {},
   "outputs": [],
   "source": [
    "# print a single tweet json for reference\n",
    "test_tweet = api.user_timeline(newsOutlets[0])\n",
    "#print(json.dumps(test_tweet[0], sort_keys=True, indent=4))"
   ]
  },
  {
   "cell_type": "code",
   "execution_count": 18,
   "metadata": {
    "collapsed": true
   },
   "outputs": [],
   "source": [
    "# Create array to hold sentiments\n",
    "sentiment_array = []"
   ]
  },
  {
   "cell_type": "code",
   "execution_count": 19,
   "metadata": {},
   "outputs": [],
   "source": [
    "# Loop through all media outlets\n",
    "for outlet in newsOutlets:\n",
    "    counter = 1   \n",
    "    \n",
    "    # For each outlet loop through 5 pages of tweets (total 100 tweets)\n",
    "    for x in range(5):\n",
    "\n",
    "        # Get user's tweets, specifying the page\n",
    "        public_tweets = api.user_timeline(outlet, page=x)\n",
    "\n",
    "        # Loop through all tweets\n",
    "        for tweet in public_tweets:\n",
    "            \n",
    "            #Get info for each tweet \n",
    "                      \n",
    "            # Get account handle and full user name\n",
    "            tweet_target = tweet[\"user\"][\"screen_name\"]\n",
    "            tweet_name = tweet[\"user\"][\"name\"]\n",
    "            \n",
    "            # Convert tweet date\n",
    "            converted_time = datetime.strptime(tweet[\"created_at\"], \"%a %b %d %H:%M:%S %z %Y\")\n",
    "            \n",
    "            # Get tweet text\n",
    "            tweet_text = tweet[\"text\"]\n",
    "            \n",
    "            # Run sentiment analysis\n",
    "            results = analyzer.polarity_scores(tweet[\"text\"])\n",
    "            pos = results[\"pos\"]\n",
    "            neg = results[\"neg\"]\n",
    "            neu = results[\"neu\"]\n",
    "            comp = results[\"compound\"]\n",
    "            \n",
    "            # Place data in a dictionary\n",
    "            sentiment = {\"TweetsAgo\":counter,\n",
    "                         \"Target\": tweet_target,\n",
    "                         \"User\": tweet_name,\n",
    "                         \"Date\": converted_time,\n",
    "                         \"Text\": tweet_text,\n",
    "                         \"Compound\": comp,\n",
    "                         \"Positive\": pos,\n",
    "                         \"Neutral\": neu,\n",
    "                         \"Negative\": neg\n",
    "                        }\n",
    "            \n",
    "            # Append dictionary to master sentiment array\n",
    "            sentiment_array.append(sentiment)\n",
    "           \n",
    "            # **** For testing only print sample tweet info ****           \n",
    "           # print(f\"Tweet# {counter}: {outlet}\")\n",
    "           # print(f\"      name: {tweet_name} |  time: {converted_time} | {tweet_text} \")\n",
    "            \n",
    "            # Increment counter\n",
    "            counter +=1"
   ]
  },
  {
   "cell_type": "code",
   "execution_count": 20,
   "metadata": {},
   "outputs": [
    {
     "data": {
      "text/plain": [
       "500"
      ]
     },
     "execution_count": 20,
     "metadata": {},
     "output_type": "execute_result"
    }
   ],
   "source": [
    "# Verify there are 500 total tweets (100 from each)\n",
    "len(sentiment_array)"
   ]
  },
  {
   "cell_type": "code",
   "execution_count": 21,
   "metadata": {},
   "outputs": [
    {
     "data": {
      "text/html": [
       "<div>\n",
       "<style>\n",
       "    .dataframe thead tr:only-child th {\n",
       "        text-align: right;\n",
       "    }\n",
       "\n",
       "    .dataframe thead th {\n",
       "        text-align: left;\n",
       "    }\n",
       "\n",
       "    .dataframe tbody tr th {\n",
       "        vertical-align: top;\n",
       "    }\n",
       "</style>\n",
       "<table border=\"1\" class=\"dataframe\">\n",
       "  <thead>\n",
       "    <tr style=\"text-align: right;\">\n",
       "      <th></th>\n",
       "      <th>TweetsAgo</th>\n",
       "      <th>Target</th>\n",
       "      <th>User</th>\n",
       "      <th>Date</th>\n",
       "      <th>Positive</th>\n",
       "      <th>Neutral</th>\n",
       "      <th>Negative</th>\n",
       "      <th>Compound</th>\n",
       "      <th>Text</th>\n",
       "    </tr>\n",
       "  </thead>\n",
       "  <tbody>\n",
       "    <tr>\n",
       "      <th>0</th>\n",
       "      <td>1</td>\n",
       "      <td>BBCWorld</td>\n",
       "      <td>BBC News (World)</td>\n",
       "      <td>2017-12-01 15:34:41+00:00</td>\n",
       "      <td>0.000</td>\n",
       "      <td>1.000</td>\n",
       "      <td>0.000</td>\n",
       "      <td>0.0000</td>\n",
       "      <td>RT @BBCSport: The 2018 Fifa #WorldCupDraw is m...</td>\n",
       "    </tr>\n",
       "    <tr>\n",
       "      <th>1</th>\n",
       "      <td>2</td>\n",
       "      <td>BBCWorld</td>\n",
       "      <td>BBC News (World)</td>\n",
       "      <td>2017-12-01 15:23:33+00:00</td>\n",
       "      <td>0.138</td>\n",
       "      <td>0.781</td>\n",
       "      <td>0.082</td>\n",
       "      <td>0.3612</td>\n",
       "      <td>Flight attendant still working at 81: Bette Na...</td>\n",
       "    </tr>\n",
       "    <tr>\n",
       "      <th>2</th>\n",
       "      <td>3</td>\n",
       "      <td>BBCWorld</td>\n",
       "      <td>BBC News (World)</td>\n",
       "      <td>2017-12-01 15:22:55+00:00</td>\n",
       "      <td>0.000</td>\n",
       "      <td>0.769</td>\n",
       "      <td>0.231</td>\n",
       "      <td>-0.3400</td>\n",
       "      <td>Cohoes fire: Amateur US blacksmith burns down ...</td>\n",
       "    </tr>\n",
       "    <tr>\n",
       "      <th>3</th>\n",
       "      <td>4</td>\n",
       "      <td>BBCWorld</td>\n",
       "      <td>BBC News (World)</td>\n",
       "      <td>2017-12-01 15:22:55+00:00</td>\n",
       "      <td>0.535</td>\n",
       "      <td>0.465</td>\n",
       "      <td>0.000</td>\n",
       "      <td>0.3182</td>\n",
       "      <td>Far-right embrace https://t.co/vUnjzsx2Fm</td>\n",
       "    </tr>\n",
       "    <tr>\n",
       "      <th>4</th>\n",
       "      <td>5</td>\n",
       "      <td>BBCWorld</td>\n",
       "      <td>BBC News (World)</td>\n",
       "      <td>2017-12-01 14:59:55+00:00</td>\n",
       "      <td>0.000</td>\n",
       "      <td>1.000</td>\n",
       "      <td>0.000</td>\n",
       "      <td>0.0000</td>\n",
       "      <td>UN appeals for record $22.5bn humanitarian aid...</td>\n",
       "    </tr>\n",
       "  </tbody>\n",
       "</table>\n",
       "</div>"
      ],
      "text/plain": [
       "   TweetsAgo    Target              User                      Date  Positive  \\\n",
       "0          1  BBCWorld  BBC News (World) 2017-12-01 15:34:41+00:00     0.000   \n",
       "1          2  BBCWorld  BBC News (World) 2017-12-01 15:23:33+00:00     0.138   \n",
       "2          3  BBCWorld  BBC News (World) 2017-12-01 15:22:55+00:00     0.000   \n",
       "3          4  BBCWorld  BBC News (World) 2017-12-01 15:22:55+00:00     0.535   \n",
       "4          5  BBCWorld  BBC News (World) 2017-12-01 14:59:55+00:00     0.000   \n",
       "\n",
       "   Neutral  Negative  Compound  \\\n",
       "0    1.000     0.000    0.0000   \n",
       "1    0.781     0.082    0.3612   \n",
       "2    0.769     0.231   -0.3400   \n",
       "3    0.465     0.000    0.3182   \n",
       "4    1.000     0.000    0.0000   \n",
       "\n",
       "                                                Text  \n",
       "0  RT @BBCSport: The 2018 Fifa #WorldCupDraw is m...  \n",
       "1  Flight attendant still working at 81: Bette Na...  \n",
       "2  Cohoes fire: Amateur US blacksmith burns down ...  \n",
       "3          Far-right embrace https://t.co/vUnjzsx2Fm  \n",
       "4  UN appeals for record $22.5bn humanitarian aid...  "
      ]
     },
     "execution_count": 21,
     "metadata": {},
     "output_type": "execute_result"
    }
   ],
   "source": [
    "# Create data frame\n",
    "sentiments_df = pd.DataFrame(sentiment_array)\n",
    "\n",
    "#Force column order\n",
    "sentiments_df = sentiments_df[[\"TweetsAgo\",\"Target\",\"User\",\"Date\",\"Positive\",\"Neutral\",\"Negative\",\"Compound\",\"Text\"]]\n",
    "sentiments_df.head()"
   ]
  },
  {
   "cell_type": "code",
   "execution_count": 22,
   "metadata": {},
   "outputs": [],
   "source": [
    "# Sort data frame by target and tweets ago\n",
    "sentiments_df = sentiments_df.sort_values([\"Target\",\"TweetsAgo\"], ascending=[True, False])\n",
    "    #sentiments_df.head()"
   ]
  },
  {
   "cell_type": "code",
   "execution_count": 23,
   "metadata": {
    "collapsed": true
   },
   "outputs": [],
   "source": [
    "# Save twitter data to CSV file\n",
    "sentiments_df.to_csv(\"recentTweets.csv\", encoding=\"utf-8\", index=False)"
   ]
  },
  {
   "cell_type": "code",
   "execution_count": 24,
   "metadata": {
    "collapsed": true
   },
   "outputs": [],
   "source": [
    "# Create charting data frames for each type\n",
    "BBC_df = sentiments_df[sentiments_df[\"Target\"]==\"BBCWorld\"]\n",
    "CBS_df = sentiments_df[sentiments_df[\"Target\"]==\"CBSNews\"]\n",
    "CNN_df = sentiments_df[sentiments_df[\"Target\"]==\"CNN\"]\n",
    "FOX_df = sentiments_df[sentiments_df[\"Target\"]==\"FoxNews\"]\n",
    "NYT_df = sentiments_df[sentiments_df[\"Target\"]==\"nytimes\"]"
   ]
  },
  {
   "cell_type": "code",
   "execution_count": 25,
   "metadata": {},
   "outputs": [
    {
     "data": {
      "text/plain": [
       "<matplotlib.collections.PathCollection at 0x270753c84a8>"
      ]
     },
     "execution_count": 25,
     "metadata": {},
     "output_type": "execute_result"
    }
   ],
   "source": [
    "#Plot each outlets scatter graph\n",
    "plt.scatter(BBC_df[\"TweetsAgo\"], BBC_df[\"Compound\"], marker=\"o\", facecolors=\"gold\", edgecolors=\"black\", label=\"BBCWorld\", alpha=0.75)\n",
    "plt.scatter(CBS_df[\"TweetsAgo\"], CBS_df[\"Compound\"], marker=\"o\", facecolors=\"blue\", edgecolors=\"black\", label=\"CBSNews\", alpha=0.75)\n",
    "plt.scatter(CNN_df[\"TweetsAgo\"], CNN_df[\"Compound\"], marker=\"o\", facecolors=\"green\", edgecolors=\"black\", label=\"CNN\", alpha=0.75)\n",
    "plt.scatter(FOX_df[\"TweetsAgo\"], FOX_df[\"Compound\"], marker=\"o\", facecolors=\"red\", edgecolors=\"black\", label=\"FoxNews\", alpha=0.75)\n",
    "plt.scatter(NYT_df[\"TweetsAgo\"], NYT_df[\"Compound\"], marker=\"o\", facecolors=\"lightblue\", edgecolors=\"black\", label=\"NYTimes\", alpha=0.75)"
   ]
  },
  {
   "cell_type": "code",
   "execution_count": 26,
   "metadata": {},
   "outputs": [
    {
     "data": {
      "text/plain": [
       "<matplotlib.text.Text at 0x2707664d438>"
      ]
     },
     "execution_count": 26,
     "metadata": {},
     "output_type": "execute_result"
    }
   ],
   "source": [
    "# Add labels to the x and y axes\n",
    "curDate = datetime.now().date()\n",
    "plt.title(f\"Sentiment Analysis of Media Tweets as of {curDate}\")\n",
    "plt.xlabel(\"Tweets Ago\")\n",
    "plt.ylabel(\"Tweet Polarity\")"
   ]
  },
  {
   "cell_type": "code",
   "execution_count": 27,
   "metadata": {},
   "outputs": [
    {
     "data": {
      "text/plain": [
       "(-1, 1)"
      ]
     },
     "execution_count": 27,
     "metadata": {},
     "output_type": "execute_result"
    }
   ],
   "source": [
    "# Set your x and y limits\n",
    "plt.xlim(100, 0)\n",
    "plt.ylim(-1, 1)"
   ]
  },
  {
   "cell_type": "code",
   "execution_count": 28,
   "metadata": {
    "collapsed": true
   },
   "outputs": [],
   "source": [
    "# Set a grid on plot and format legend\n",
    "plt.grid()\n",
    "#plt.legend(bbox_to_anchor=(0, 1), loc='upper left', ncol=1)\n",
    "lgnd= plt.legend(bbox_to_anchor=(1.3, 1), loc=\"upper right\", scatterpoints=1, fontsize=10, title=\"Media Outlets\")\n",
    "lgnd.legendHandles[0]._sizes = [30]\n",
    "lgnd.legendHandles[1]._sizes = [30]\n",
    "lgnd.legendHandles[2]._sizes = [30]\n",
    "lgnd.legendHandles[3]._sizes = [30]\n",
    "lgnd.legendHandles[4]._sizes = [30]"
   ]
  },
  {
   "cell_type": "code",
   "execution_count": 29,
   "metadata": {},
   "outputs": [
    {
     "data": {
      "image/png": "[encoded data removed]",
      "text/plain": [
       "<matplotlib.figure.Figure at 0x27076416f28>"
      ]
     },
     "metadata": {},
     "output_type": "display_data"
    }
   ],
   "source": [
    "# Save and show plot\n",
    "plt.savefig(\"SentimentScatterPlot.png\")\n",
    "plt.show()"
   ]
  },
  {
   "cell_type": "code",
   "execution_count": 30,
   "metadata": {},
   "outputs": [],
   "source": [
    "# Group the data by media outlet\n",
    "groupedNews = sentiments_df.groupby([\"Target\"], as_index=False)\n",
    "    #groupedNews.head()"
   ]
  },
  {
   "cell_type": "code",
   "execution_count": 31,
   "metadata": {},
   "outputs": [
    {
     "data": {
      "text/html": [
       "<div>\n",
       "<style>\n",
       "    .dataframe thead tr:only-child th {\n",
       "        text-align: right;\n",
       "    }\n",
       "\n",
       "    .dataframe thead th {\n",
       "        text-align: left;\n",
       "    }\n",
       "\n",
       "    .dataframe tbody tr th {\n",
       "        vertical-align: top;\n",
       "    }\n",
       "</style>\n",
       "<table border=\"1\" class=\"dataframe\">\n",
       "  <thead>\n",
       "    <tr style=\"text-align: right;\">\n",
       "      <th></th>\n",
       "      <th>Target</th>\n",
       "      <th>Compound</th>\n",
       "    </tr>\n",
       "  </thead>\n",
       "  <tbody>\n",
       "    <tr>\n",
       "      <th>0</th>\n",
       "      <td>BBCWorld</td>\n",
       "      <td>-0.124241</td>\n",
       "    </tr>\n",
       "    <tr>\n",
       "      <th>1</th>\n",
       "      <td>CBSNews</td>\n",
       "      <td>-0.115945</td>\n",
       "    </tr>\n",
       "    <tr>\n",
       "      <th>2</th>\n",
       "      <td>CNN</td>\n",
       "      <td>-0.018166</td>\n",
       "    </tr>\n",
       "    <tr>\n",
       "      <th>3</th>\n",
       "      <td>FoxNews</td>\n",
       "      <td>-0.213103</td>\n",
       "    </tr>\n",
       "    <tr>\n",
       "      <th>4</th>\n",
       "      <td>nytimes</td>\n",
       "      <td>-0.035460</td>\n",
       "    </tr>\n",
       "  </tbody>\n",
       "</table>\n",
       "</div>"
      ],
      "text/plain": [
       "     Target  Compound\n",
       "0  BBCWorld -0.124241\n",
       "1   CBSNews -0.115945\n",
       "2       CNN -0.018166\n",
       "3   FoxNews -0.213103\n",
       "4   nytimes -0.035460"
      ]
     },
     "execution_count": 31,
     "metadata": {},
     "output_type": "execute_result"
    }
   ],
   "source": [
    "# Get the average Compound sentiment\n",
    "avgComp = groupedNews[\"Compound\"].mean()\n",
    "avgComp.head()"
   ]
  },
  {
   "cell_type": "code",
   "execution_count": 32,
   "metadata": {
    "collapsed": true
   },
   "outputs": [],
   "source": [
    "# Set up arrays for charting\n",
    "bar_outlets = avgComp[\"Target\"]\n",
    "bar_Compound = avgComp[\"Compound\"]\n",
    "x_axis = np.arange(0, len(bar_Compound), 1)"
   ]
  },
  {
   "cell_type": "code",
   "execution_count": 33,
   "metadata": {},
   "outputs": [
    {
     "data": {
      "text/plain": [
       "<Container object of 5 artists>"
      ]
     },
     "execution_count": 33,
     "metadata": {},
     "output_type": "execute_result"
    }
   ],
   "source": [
    "# Create a bar chart based upon the above data\n",
    "plt.bar(x_axis, bar_Compound, color=[\"gold\",\"blue\",\"green\",\"red\",\"lightblue\"], align=\"edge\")"
   ]
  },
  {
   "cell_type": "code",
   "execution_count": 34,
   "metadata": {},
   "outputs": [
    {
     "data": {
      "text/plain": [
       "([<matplotlib.axis.XTick at 0x2707536f0b8>,\n",
       "  <matplotlib.axis.XTick at 0x27075383ba8>,\n",
       "  <matplotlib.axis.XTick at 0x27075369208>,\n",
       "  <matplotlib.axis.XTick at 0x270766a1c50>,\n",
       "  <matplotlib.axis.XTick at 0x270766a95f8>],\n",
       " <a list of 5 Text xticklabel objects>)"
      ]
     },
     "execution_count": 34,
     "metadata": {},
     "output_type": "execute_result"
    }
   ],
   "source": [
    "# Create the ticks for our bar chart's x axis\n",
    "tick_locations = [value+0.4 for value in x_axis]\n",
    "plt.xticks(tick_locations, bar_outlets)"
   ]
  },
  {
   "cell_type": "code",
   "execution_count": 35,
   "metadata": {},
   "outputs": [
    {
     "data": {
      "text/plain": [
       "(-0.3, 0.1)"
      ]
     },
     "execution_count": 35,
     "metadata": {},
     "output_type": "execute_result"
    }
   ],
   "source": [
    "# Set the limits of the x axis\n",
    "plt.xlim(-0.25, len(x_axis))\n",
    "\n",
    "# Set the limits of the y axis\n",
    "plt.ylim(-.3, .1)"
   ]
  },
  {
   "cell_type": "code",
   "execution_count": 36,
   "metadata": {},
   "outputs": [
    {
     "data": {
      "text/plain": [
       "<matplotlib.text.Text at 0x27075369da0>"
      ]
     },
     "execution_count": 36,
     "metadata": {},
     "output_type": "execute_result"
    }
   ],
   "source": [
    "\n",
    "# Give the chart a title, x label, and y label\n",
    "plt.title(f\"Overall Media Sentiment Based on Twitter as of {curDate}\")\n",
    "plt.xlabel(\"Outlets\")\n",
    "plt.ylabel(\"Tweet Polarity\")"
   ]
  },
  {
   "cell_type": "code",
   "execution_count": 37,
   "metadata": {},
   "outputs": [
    {
     "data": {
      "image/png": "[encoded data removed]",
      "text/plain": [
       "<matplotlib.figure.Figure at 0x27076472518>"
      ]
     },
     "metadata": {},
     "output_type": "display_data"
    }
   ],
   "source": [
    "# Save an image of the chart and print it to the screen\n",
    "plt.savefig(\"BarSentiment.png\")\n",
    "plt.show()"
   ]
  },
  {
   "cell_type": "code",
   "execution_count": null,
   "metadata": {
    "collapsed": true
   },
   "outputs": [],
   "source": []
  }
 ],
 "metadata": {
  "kernelspec": {
   "display_name": "Python 3",
   "language": "python",
   "name": "python3"
  },
  "language_info": {
   "codemirror_mode": {
    "name": "ipython",
    "version": 3
   },
   "file_extension": ".py",
   "mimetype": "text/x-python",
   "name": "python",
   "nbconvert_exporter": "python",
   "pygments_lexer": "ipython3",
   "version": "3.6.1"
  }
 },
 "nbformat": 4,
 "nbformat_minor": 2
}
